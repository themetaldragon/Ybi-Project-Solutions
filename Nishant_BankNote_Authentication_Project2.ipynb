{
  "nbformat": 4,
  "nbformat_minor": 0,
  "metadata": {
    "colab": {
      "name": "Nishant_BankNote_Authentication_Project2.ipynb",
      "provenance": []
    },
    "kernelspec": {
      "name": "python3",
      "display_name": "Python 3"
    },
    "language_info": {
      "name": "python"
    }
  },
  "cells": [
    {
      "cell_type": "markdown",
      "source": [
        "###Importing Libraries"
      ],
      "metadata": {
        "id": "8zXGsPLie0_F"
      }
    },
    {
      "cell_type": "code",
      "source": [
        "import pandas as pd\n",
        "import numpy as np"
      ],
      "metadata": {
        "id": "xMHzZsU85JO7"
      },
      "execution_count": null,
      "outputs": []
    },
    {
      "cell_type": "code",
      "source": [
        "import matplotlib.pyplot as plt\n",
        "import seaborn as sns"
      ],
      "metadata": {
        "id": "dgGaj92M5NVz"
      },
      "execution_count": null,
      "outputs": []
    },
    {
      "cell_type": "code",
      "source": [
        "import missingno as msno\n",
        "from sklearn.preprocessing import StandardScaler, MinMaxScaler, binarize"
      ],
      "metadata": {
        "id": "yVJNuEVW5Qmq"
      },
      "execution_count": null,
      "outputs": []
    },
    {
      "cell_type": "code",
      "source": [
        "from sklearn.model_selection import train_test_split, cross_val_score, KFold, GridSearchCV"
      ],
      "metadata": {
        "id": "O0QPlMH-5vfd"
      },
      "execution_count": null,
      "outputs": []
    },
    {
      "cell_type": "code",
      "source": [
        "from sklearn.linear_model import LogisticRegression\n",
        "from sklearn.discriminant_analysis import LinearDiscriminantAnalysis\n",
        "from sklearn.tree import DecisionTreeClassifier\n",
        "from sklearn.neighbors import KNeighborsClassifier\n",
        "from sklearn.svm import SVC\n",
        "from sklearn.ensemble import RandomForestClassifier, AdaBoostClassifier, GradientBoostingClassifier, ExtraTreesClassifier"
      ],
      "metadata": {
        "id": "8l5zKhtD50RR"
      },
      "execution_count": null,
      "outputs": []
    },
    {
      "cell_type": "code",
      "source": [
        "from sklearn.metrics import confusion_matrix, classification_report, roc_auc_score, roc_curve, accuracy_score"
      ],
      "metadata": {
        "id": "KIH7A-Lt55sN"
      },
      "execution_count": null,
      "outputs": []
    },
    {
      "cell_type": "code",
      "source": [
        "from sklearn.feature_selection import SelectKBest, chi2"
      ],
      "metadata": {
        "id": "Qer_sfqS5-Ye"
      },
      "execution_count": null,
      "outputs": []
    },
    {
      "cell_type": "code",
      "source": [
        "import warnings as ws\n",
        "ws.filterwarnings('ignore')"
      ],
      "metadata": {
        "id": "o1k5gxkZ6C3L"
      },
      "execution_count": null,
      "outputs": []
    },
    {
      "cell_type": "markdown",
      "source": [
        "###Importing Dataset"
      ],
      "metadata": {
        "id": "7RvWFv3Ae94n"
      }
    },
    {
      "cell_type": "code",
      "source": [
        "data = pd.read_csv(\"https://www.dropbox.com/s/5sirw6tdflbo31b/BankNoteAuthentication.csv?dl=1\")\n",
        "data.head()"
      ],
      "metadata": {
        "colab": {
          "base_uri": "https://localhost:8080/",
          "height": 206
        },
        "id": "3sPPRKQy6GFl",
        "outputId": "a53a2a35-18ed-44ce-cf4f-f030c5ce9038"
      },
      "execution_count": null,
      "outputs": [
        {
          "output_type": "execute_result",
          "data": {
            "text/plain": [
              "   variance  skewness  curtosis  entropy  class\n",
              "0   3.62160    8.6661   -2.8073 -0.44699      0\n",
              "1   4.54590    8.1674   -2.4586 -1.46210      0\n",
              "2   3.86600   -2.6383    1.9242  0.10645      0\n",
              "3   3.45660    9.5228   -4.0112 -3.59440      0\n",
              "4   0.32924   -4.4552    4.5718 -0.98880      0"
            ],
            "text/html": [
              "\n",
              "  <div id=\"df-63f74977-7027-41d1-915f-0e22ae7980db\">\n",
              "    <div class=\"colab-df-container\">\n",
              "      <div>\n",
              "<style scoped>\n",
              "    .dataframe tbody tr th:only-of-type {\n",
              "        vertical-align: middle;\n",
              "    }\n",
              "\n",
              "    .dataframe tbody tr th {\n",
              "        vertical-align: top;\n",
              "    }\n",
              "\n",
              "    .dataframe thead th {\n",
              "        text-align: right;\n",
              "    }\n",
              "</style>\n",
              "<table border=\"1\" class=\"dataframe\">\n",
              "  <thead>\n",
              "    <tr style=\"text-align: right;\">\n",
              "      <th></th>\n",
              "      <th>variance</th>\n",
              "      <th>skewness</th>\n",
              "      <th>curtosis</th>\n",
              "      <th>entropy</th>\n",
              "      <th>class</th>\n",
              "    </tr>\n",
              "  </thead>\n",
              "  <tbody>\n",
              "    <tr>\n",
              "      <th>0</th>\n",
              "      <td>3.62160</td>\n",
              "      <td>8.6661</td>\n",
              "      <td>-2.8073</td>\n",
              "      <td>-0.44699</td>\n",
              "      <td>0</td>\n",
              "    </tr>\n",
              "    <tr>\n",
              "      <th>1</th>\n",
              "      <td>4.54590</td>\n",
              "      <td>8.1674</td>\n",
              "      <td>-2.4586</td>\n",
              "      <td>-1.46210</td>\n",
              "      <td>0</td>\n",
              "    </tr>\n",
              "    <tr>\n",
              "      <th>2</th>\n",
              "      <td>3.86600</td>\n",
              "      <td>-2.6383</td>\n",
              "      <td>1.9242</td>\n",
              "      <td>0.10645</td>\n",
              "      <td>0</td>\n",
              "    </tr>\n",
              "    <tr>\n",
              "      <th>3</th>\n",
              "      <td>3.45660</td>\n",
              "      <td>9.5228</td>\n",
              "      <td>-4.0112</td>\n",
              "      <td>-3.59440</td>\n",
              "      <td>0</td>\n",
              "    </tr>\n",
              "    <tr>\n",
              "      <th>4</th>\n",
              "      <td>0.32924</td>\n",
              "      <td>-4.4552</td>\n",
              "      <td>4.5718</td>\n",
              "      <td>-0.98880</td>\n",
              "      <td>0</td>\n",
              "    </tr>\n",
              "  </tbody>\n",
              "</table>\n",
              "</div>\n",
              "      <button class=\"colab-df-convert\" onclick=\"convertToInteractive('df-63f74977-7027-41d1-915f-0e22ae7980db')\"\n",
              "              title=\"Convert this dataframe to an interactive table.\"\n",
              "              style=\"display:none;\">\n",
              "        \n",
              "  <svg xmlns=\"http://www.w3.org/2000/svg\" height=\"24px\"viewBox=\"0 0 24 24\"\n",
              "       width=\"24px\">\n",
              "    <path d=\"M0 0h24v24H0V0z\" fill=\"none\"/>\n",
              "    <path d=\"M18.56 5.44l.94 2.06.94-2.06 2.06-.94-2.06-.94-.94-2.06-.94 2.06-2.06.94zm-11 1L8.5 8.5l.94-2.06 2.06-.94-2.06-.94L8.5 2.5l-.94 2.06-2.06.94zm10 10l.94 2.06.94-2.06 2.06-.94-2.06-.94-.94-2.06-.94 2.06-2.06.94z\"/><path d=\"M17.41 7.96l-1.37-1.37c-.4-.4-.92-.59-1.43-.59-.52 0-1.04.2-1.43.59L10.3 9.45l-7.72 7.72c-.78.78-.78 2.05 0 2.83L4 21.41c.39.39.9.59 1.41.59.51 0 1.02-.2 1.41-.59l7.78-7.78 2.81-2.81c.8-.78.8-2.07 0-2.86zM5.41 20L4 18.59l7.72-7.72 1.47 1.35L5.41 20z\"/>\n",
              "  </svg>\n",
              "      </button>\n",
              "      \n",
              "  <style>\n",
              "    .colab-df-container {\n",
              "      display:flex;\n",
              "      flex-wrap:wrap;\n",
              "      gap: 12px;\n",
              "    }\n",
              "\n",
              "    .colab-df-convert {\n",
              "      background-color: #E8F0FE;\n",
              "      border: none;\n",
              "      border-radius: 50%;\n",
              "      cursor: pointer;\n",
              "      display: none;\n",
              "      fill: #1967D2;\n",
              "      height: 32px;\n",
              "      padding: 0 0 0 0;\n",
              "      width: 32px;\n",
              "    }\n",
              "\n",
              "    .colab-df-convert:hover {\n",
              "      background-color: #E2EBFA;\n",
              "      box-shadow: 0px 1px 2px rgba(60, 64, 67, 0.3), 0px 1px 3px 1px rgba(60, 64, 67, 0.15);\n",
              "      fill: #174EA6;\n",
              "    }\n",
              "\n",
              "    [theme=dark] .colab-df-convert {\n",
              "      background-color: #3B4455;\n",
              "      fill: #D2E3FC;\n",
              "    }\n",
              "\n",
              "    [theme=dark] .colab-df-convert:hover {\n",
              "      background-color: #434B5C;\n",
              "      box-shadow: 0px 1px 3px 1px rgba(0, 0, 0, 0.15);\n",
              "      filter: drop-shadow(0px 1px 2px rgba(0, 0, 0, 0.3));\n",
              "      fill: #FFFFFF;\n",
              "    }\n",
              "  </style>\n",
              "\n",
              "      <script>\n",
              "        const buttonEl =\n",
              "          document.querySelector('#df-63f74977-7027-41d1-915f-0e22ae7980db button.colab-df-convert');\n",
              "        buttonEl.style.display =\n",
              "          google.colab.kernel.accessAllowed ? 'block' : 'none';\n",
              "\n",
              "        async function convertToInteractive(key) {\n",
              "          const element = document.querySelector('#df-63f74977-7027-41d1-915f-0e22ae7980db');\n",
              "          const dataTable =\n",
              "            await google.colab.kernel.invokeFunction('convertToInteractive',\n",
              "                                                     [key], {});\n",
              "          if (!dataTable) return;\n",
              "\n",
              "          const docLinkHtml = 'Like what you see? Visit the ' +\n",
              "            '<a target=\"_blank\" href=https://colab.research.google.com/notebooks/data_table.ipynb>data table notebook</a>'\n",
              "            + ' to learn more about interactive tables.';\n",
              "          element.innerHTML = '';\n",
              "          dataTable['output_type'] = 'display_data';\n",
              "          await google.colab.output.renderOutput(dataTable, element);\n",
              "          const docLink = document.createElement('div');\n",
              "          docLink.innerHTML = docLinkHtml;\n",
              "          element.appendChild(docLink);\n",
              "        }\n",
              "      </script>\n",
              "    </div>\n",
              "  </div>\n",
              "  "
            ]
          },
          "metadata": {},
          "execution_count": 11
        }
      ]
    },
    {
      "cell_type": "code",
      "source": [
        "data.info()"
      ],
      "metadata": {
        "colab": {
          "base_uri": "https://localhost:8080/"
        },
        "id": "5bdEREhkhHO4",
        "outputId": "cd7c2a03-d100-4a9a-e686-a9866701aa81"
      },
      "execution_count": null,
      "outputs": [
        {
          "output_type": "stream",
          "name": "stdout",
          "text": [
            "<class 'pandas.core.frame.DataFrame'>\n",
            "RangeIndex: 1372 entries, 0 to 1371\n",
            "Data columns (total 5 columns):\n",
            " #   Column    Non-Null Count  Dtype  \n",
            "---  ------    --------------  -----  \n",
            " 0   variance  1372 non-null   float64\n",
            " 1   skewness  1372 non-null   float64\n",
            " 2   curtosis  1372 non-null   float64\n",
            " 3   entropy   1372 non-null   float64\n",
            " 4   class     1372 non-null   int64  \n",
            "dtypes: float64(4), int64(1)\n",
            "memory usage: 53.7 KB\n"
          ]
        }
      ]
    },
    {
      "cell_type": "code",
      "source": [
        " def summary(data):\n",
        "    df = {\n",
        "     'Count' : data.shape[0],\n",
        "     'NA values' : data.isna().sum(),\n",
        "     '% NA' : round((data.isna().sum()/data.shape[0]) * 100, 2),\n",
        "     'Unique' : data.nunique(),\n",
        "     'Dtype' : data.dtypes,\n",
        "     'min' : round(data.min(),2),\n",
        "     '25%' : round(data.quantile(.25),2),\n",
        "     '50%' : round(data.quantile(.50),2),\n",
        "     'mean' : round(data.mean(),2),\n",
        "     '75%' : round(data.quantile(.75),2),   \n",
        "     'max' : round(data.max(),2)\n",
        "    } \n",
        "    return(pd.DataFrame(df))\n",
        "\n",
        "print('Shape is :', data.shape)\n",
        "summary(data)"
      ],
      "metadata": {
        "colab": {
          "base_uri": "https://localhost:8080/",
          "height": 224
        },
        "id": "mKdVfrNZ6UhL",
        "outputId": "3a72126b-69c1-4aee-ec40-0f61281976f5"
      },
      "execution_count": null,
      "outputs": [
        {
          "output_type": "stream",
          "name": "stdout",
          "text": [
            "Shape is : (1372, 5)\n"
          ]
        },
        {
          "output_type": "execute_result",
          "data": {
            "text/plain": [
              "          Count  NA values  % NA  Unique    Dtype    min   25%   50%  mean  \\\n",
              "variance   1372          0   0.0    1338  float64  -7.04 -1.77  0.50  0.43   \n",
              "skewness   1372          0   0.0    1256  float64 -13.77 -1.71  2.32  1.92   \n",
              "curtosis   1372          0   0.0    1270  float64  -5.29 -1.57  0.62  1.40   \n",
              "entropy    1372          0   0.0    1156  float64  -8.55 -2.41 -0.59 -1.19   \n",
              "class      1372          0   0.0       2    int64   0.00  0.00  0.00  0.44   \n",
              "\n",
              "           75%    max  \n",
              "variance  2.82   6.82  \n",
              "skewness  6.81  12.95  \n",
              "curtosis  3.18  17.93  \n",
              "entropy   0.39   2.45  \n",
              "class     1.00   1.00  "
            ],
            "text/html": [
              "\n",
              "  <div id=\"df-6c361f41-f7b9-4563-a756-b4334daa0e2a\">\n",
              "    <div class=\"colab-df-container\">\n",
              "      <div>\n",
              "<style scoped>\n",
              "    .dataframe tbody tr th:only-of-type {\n",
              "        vertical-align: middle;\n",
              "    }\n",
              "\n",
              "    .dataframe tbody tr th {\n",
              "        vertical-align: top;\n",
              "    }\n",
              "\n",
              "    .dataframe thead th {\n",
              "        text-align: right;\n",
              "    }\n",
              "</style>\n",
              "<table border=\"1\" class=\"dataframe\">\n",
              "  <thead>\n",
              "    <tr style=\"text-align: right;\">\n",
              "      <th></th>\n",
              "      <th>Count</th>\n",
              "      <th>NA values</th>\n",
              "      <th>% NA</th>\n",
              "      <th>Unique</th>\n",
              "      <th>Dtype</th>\n",
              "      <th>min</th>\n",
              "      <th>25%</th>\n",
              "      <th>50%</th>\n",
              "      <th>mean</th>\n",
              "      <th>75%</th>\n",
              "      <th>max</th>\n",
              "    </tr>\n",
              "  </thead>\n",
              "  <tbody>\n",
              "    <tr>\n",
              "      <th>variance</th>\n",
              "      <td>1372</td>\n",
              "      <td>0</td>\n",
              "      <td>0.0</td>\n",
              "      <td>1338</td>\n",
              "      <td>float64</td>\n",
              "      <td>-7.04</td>\n",
              "      <td>-1.77</td>\n",
              "      <td>0.50</td>\n",
              "      <td>0.43</td>\n",
              "      <td>2.82</td>\n",
              "      <td>6.82</td>\n",
              "    </tr>\n",
              "    <tr>\n",
              "      <th>skewness</th>\n",
              "      <td>1372</td>\n",
              "      <td>0</td>\n",
              "      <td>0.0</td>\n",
              "      <td>1256</td>\n",
              "      <td>float64</td>\n",
              "      <td>-13.77</td>\n",
              "      <td>-1.71</td>\n",
              "      <td>2.32</td>\n",
              "      <td>1.92</td>\n",
              "      <td>6.81</td>\n",
              "      <td>12.95</td>\n",
              "    </tr>\n",
              "    <tr>\n",
              "      <th>curtosis</th>\n",
              "      <td>1372</td>\n",
              "      <td>0</td>\n",
              "      <td>0.0</td>\n",
              "      <td>1270</td>\n",
              "      <td>float64</td>\n",
              "      <td>-5.29</td>\n",
              "      <td>-1.57</td>\n",
              "      <td>0.62</td>\n",
              "      <td>1.40</td>\n",
              "      <td>3.18</td>\n",
              "      <td>17.93</td>\n",
              "    </tr>\n",
              "    <tr>\n",
              "      <th>entropy</th>\n",
              "      <td>1372</td>\n",
              "      <td>0</td>\n",
              "      <td>0.0</td>\n",
              "      <td>1156</td>\n",
              "      <td>float64</td>\n",
              "      <td>-8.55</td>\n",
              "      <td>-2.41</td>\n",
              "      <td>-0.59</td>\n",
              "      <td>-1.19</td>\n",
              "      <td>0.39</td>\n",
              "      <td>2.45</td>\n",
              "    </tr>\n",
              "    <tr>\n",
              "      <th>class</th>\n",
              "      <td>1372</td>\n",
              "      <td>0</td>\n",
              "      <td>0.0</td>\n",
              "      <td>2</td>\n",
              "      <td>int64</td>\n",
              "      <td>0.00</td>\n",
              "      <td>0.00</td>\n",
              "      <td>0.00</td>\n",
              "      <td>0.44</td>\n",
              "      <td>1.00</td>\n",
              "      <td>1.00</td>\n",
              "    </tr>\n",
              "  </tbody>\n",
              "</table>\n",
              "</div>\n",
              "      <button class=\"colab-df-convert\" onclick=\"convertToInteractive('df-6c361f41-f7b9-4563-a756-b4334daa0e2a')\"\n",
              "              title=\"Convert this dataframe to an interactive table.\"\n",
              "              style=\"display:none;\">\n",
              "        \n",
              "  <svg xmlns=\"http://www.w3.org/2000/svg\" height=\"24px\"viewBox=\"0 0 24 24\"\n",
              "       width=\"24px\">\n",
              "    <path d=\"M0 0h24v24H0V0z\" fill=\"none\"/>\n",
              "    <path d=\"M18.56 5.44l.94 2.06.94-2.06 2.06-.94-2.06-.94-.94-2.06-.94 2.06-2.06.94zm-11 1L8.5 8.5l.94-2.06 2.06-.94-2.06-.94L8.5 2.5l-.94 2.06-2.06.94zm10 10l.94 2.06.94-2.06 2.06-.94-2.06-.94-.94-2.06-.94 2.06-2.06.94z\"/><path d=\"M17.41 7.96l-1.37-1.37c-.4-.4-.92-.59-1.43-.59-.52 0-1.04.2-1.43.59L10.3 9.45l-7.72 7.72c-.78.78-.78 2.05 0 2.83L4 21.41c.39.39.9.59 1.41.59.51 0 1.02-.2 1.41-.59l7.78-7.78 2.81-2.81c.8-.78.8-2.07 0-2.86zM5.41 20L4 18.59l7.72-7.72 1.47 1.35L5.41 20z\"/>\n",
              "  </svg>\n",
              "      </button>\n",
              "      \n",
              "  <style>\n",
              "    .colab-df-container {\n",
              "      display:flex;\n",
              "      flex-wrap:wrap;\n",
              "      gap: 12px;\n",
              "    }\n",
              "\n",
              "    .colab-df-convert {\n",
              "      background-color: #E8F0FE;\n",
              "      border: none;\n",
              "      border-radius: 50%;\n",
              "      cursor: pointer;\n",
              "      display: none;\n",
              "      fill: #1967D2;\n",
              "      height: 32px;\n",
              "      padding: 0 0 0 0;\n",
              "      width: 32px;\n",
              "    }\n",
              "\n",
              "    .colab-df-convert:hover {\n",
              "      background-color: #E2EBFA;\n",
              "      box-shadow: 0px 1px 2px rgba(60, 64, 67, 0.3), 0px 1px 3px 1px rgba(60, 64, 67, 0.15);\n",
              "      fill: #174EA6;\n",
              "    }\n",
              "\n",
              "    [theme=dark] .colab-df-convert {\n",
              "      background-color: #3B4455;\n",
              "      fill: #D2E3FC;\n",
              "    }\n",
              "\n",
              "    [theme=dark] .colab-df-convert:hover {\n",
              "      background-color: #434B5C;\n",
              "      box-shadow: 0px 1px 3px 1px rgba(0, 0, 0, 0.15);\n",
              "      filter: drop-shadow(0px 1px 2px rgba(0, 0, 0, 0.3));\n",
              "      fill: #FFFFFF;\n",
              "    }\n",
              "  </style>\n",
              "\n",
              "      <script>\n",
              "        const buttonEl =\n",
              "          document.querySelector('#df-6c361f41-f7b9-4563-a756-b4334daa0e2a button.colab-df-convert');\n",
              "        buttonEl.style.display =\n",
              "          google.colab.kernel.accessAllowed ? 'block' : 'none';\n",
              "\n",
              "        async function convertToInteractive(key) {\n",
              "          const element = document.querySelector('#df-6c361f41-f7b9-4563-a756-b4334daa0e2a');\n",
              "          const dataTable =\n",
              "            await google.colab.kernel.invokeFunction('convertToInteractive',\n",
              "                                                     [key], {});\n",
              "          if (!dataTable) return;\n",
              "\n",
              "          const docLinkHtml = 'Like what you see? Visit the ' +\n",
              "            '<a target=\"_blank\" href=https://colab.research.google.com/notebooks/data_table.ipynb>data table notebook</a>'\n",
              "            + ' to learn more about interactive tables.';\n",
              "          element.innerHTML = '';\n",
              "          dataTable['output_type'] = 'display_data';\n",
              "          await google.colab.output.renderOutput(dataTable, element);\n",
              "          const docLink = document.createElement('div');\n",
              "          docLink.innerHTML = docLinkHtml;\n",
              "          element.appendChild(docLink);\n",
              "        }\n",
              "      </script>\n",
              "    </div>\n",
              "  </div>\n",
              "  "
            ]
          },
          "metadata": {},
          "execution_count": 12
        }
      ]
    },
    {
      "cell_type": "markdown",
      "source": [
        "###Visualising the using different plots"
      ],
      "metadata": {
        "id": "eZg9txWZfJky"
      }
    },
    {
      "cell_type": "code",
      "source": [
        "data.hist(figsize = (10,10))\n",
        "plt.show()"
      ],
      "metadata": {
        "colab": {
          "base_uri": "https://localhost:8080/",
          "height": 607
        },
        "id": "2ErrxdoN6fdh",
        "outputId": "5e7b3042-3a96-4166-fb7b-b2359ad7525b"
      },
      "execution_count": null,
      "outputs": [
        {
          "output_type": "display_data",
          "data": {
            "text/plain": [
              "<Figure size 720x720 with 6 Axes>"
            ],
            "image/png": "[encoded data removed]"
          },
          "metadata": {
            "needs_background": "light"
          }
        }
      ]
    },
    {
      "cell_type": "code",
      "source": [
        "col_names = data.drop('class', axis = 1).columns.tolist()\n",
        "\n",
        "plt.figure(figsize = (10,3))\n",
        "i = 0\n",
        "for col in col_names:\n",
        "    plt.subplot(1,4,i+1)\n",
        "    plt.grid(True, alpha =0.5)\n",
        "    sns.kdeplot(data[col][data['class'] ==0], label = 'Fake note')\n",
        "    sns.kdeplot(data[col][data['class'] ==1], label = 'Original note')\n",
        "    plt.title('Class vs ' + col)\n",
        "    plt.tight_layout()\n",
        "    i+=1\n",
        "plt.show()"
      ],
      "metadata": {
        "colab": {
          "base_uri": "https://localhost:8080/",
          "height": 225
        },
        "id": "8NsyCfq06j-N",
        "outputId": "0cfdc9d1-6516-49fc-95a3-b6c55b9c569e"
      },
      "execution_count": null,
      "outputs": [
        {
          "output_type": "display_data",
          "data": {
            "text/plain": [
              "<Figure size 720x216 with 4 Axes>"
            ],
            "image/png": "[encoded data removed]"
          },
          "metadata": {
            "needs_background": "light"
          }
        }
      ]
    },
    {
      "cell_type": "markdown",
      "source": [
        "###Splitting the data "
      ],
      "metadata": {
        "id": "8PW2atMQfSqi"
      }
    },
    {
      "cell_type": "code",
      "source": [
        "X = data.drop('class', axis = 1)\n",
        "y = data['class']\n",
        "\n",
        "x_train, x_test, y_train, y_test = train_test_split(X, y, test_size = 0.3, shuffle=True, random_state = 7)"
      ],
      "metadata": {
        "id": "KzRYq1ap6rr4"
      },
      "execution_count": null,
      "outputs": []
    },
    {
      "cell_type": "markdown",
      "source": [
        "###Appending different models"
      ],
      "metadata": {
        "id": "BqNHe3RhfZZw"
      }
    },
    {
      "cell_type": "code",
      "source": [
        "models = []\n",
        "models.append(('LR', LogisticRegression()))\n",
        "models.append(('LDA', LinearDiscriminantAnalysis()))\n",
        "models.append(('CART', DecisionTreeClassifier()))\n",
        "models.append(('KNN', KNeighborsClassifier()))\n",
        "models.append(('SVM', SVC()))\n",
        "models.append(('RF', RandomForestClassifier()))\n",
        "models.append(('ADA', AdaBoostClassifier()))\n",
        "models.append(('GB', GradientBoostingClassifier()))"
      ],
      "metadata": {
        "id": "xJd034Kb6xxT"
      },
      "execution_count": null,
      "outputs": []
    },
    {
      "cell_type": "markdown",
      "source": [
        "###Function for model selection"
      ],
      "metadata": {
        "id": "F4JDNviMfkgG"
      }
    },
    {
      "cell_type": "code",
      "source": [
        "def model_selection(x_train, y_train):\n",
        "    acc_result = []\n",
        "    auc_result = []\n",
        "    names = []\n",
        "\n",
        "    col = ['Model', 'ROC AUC Mean','ROC AUC Std','ACC Mean', 'ACC Std']\n",
        "    result = pd.DataFrame(columns = col)\n",
        "\n",
        "    i=0\n",
        "    for name, model in models:\n",
        "        kfold = KFold(n_splits = 10, shuffle =True, random_state = 7)\n",
        "        cv_acc_result  = cross_val_score(model, x_train, y_train, cv = kfold, scoring = 'accuracy')\n",
        "        cv_auc_result  = cross_val_score(model, x_train, y_train, cv = kfold, scoring = 'roc_auc')\n",
        "\n",
        "        acc_result.append(cv_acc_result)\n",
        "        auc_result.append(cv_auc_result)\n",
        "        names.append(name)\n",
        "\n",
        "        result.loc[i] = [name, \n",
        "                         cv_auc_result.mean(), \n",
        "                         cv_auc_result.std(),\n",
        "                         cv_acc_result.mean(),\n",
        "                         cv_acc_result.std()]\n",
        "\n",
        "        result = result.sort_values('ROC AUC Mean', ascending = False)\n",
        "        i+= 1\n",
        "\n",
        " \n",
        "\n",
        "    return(result)"
      ],
      "metadata": {
        "id": "m9tkdJnB7tuV"
      },
      "execution_count": null,
      "outputs": []
    },
    {
      "cell_type": "code",
      "source": [
        "model_selection(x_train, y_train)"
      ],
      "metadata": {
        "colab": {
          "base_uri": "https://localhost:8080/",
          "height": 300
        },
        "id": "2SmW7OgZJm7U",
        "outputId": "b3b78740-c1ec-4441-b25b-b2cbe5ab6e3e"
      },
      "execution_count": null,
      "outputs": [
        {
          "output_type": "execute_result",
          "data": {
            "text/plain": [
              "  Model  ROC AUC Mean  ROC AUC Std  ACC Mean   ACC Std\n",
              "3   KNN      1.000000     0.000000  1.000000  0.000000\n",
              "4   SVM      1.000000     0.000000  0.994792  0.006988\n",
              "5    RF      0.999870     0.000278  0.990625  0.009827\n",
              "0    LR      0.999780     0.000293  0.991667  0.006250\n",
              "1   LDA      0.999694     0.000340  0.976042  0.010469\n",
              "7    GB      0.999463     0.001228  0.991667  0.007795\n",
              "6   ADA      0.998131     0.003500  0.994792  0.006988\n",
              "2  CART      0.980326     0.008732  0.980208  0.009827"
            ],
            "text/html": [
              "\n",
              "  <div id=\"df-488c67b5-badf-464f-9246-94a5891c7a12\">\n",
              "    <div class=\"colab-df-container\">\n",
              "      <div>\n",
              "<style scoped>\n",
              "    .dataframe tbody tr th:only-of-type {\n",
              "        vertical-align: middle;\n",
              "    }\n",
              "\n",
              "    .dataframe tbody tr th {\n",
              "        vertical-align: top;\n",
              "    }\n",
              "\n",
              "    .dataframe thead th {\n",
              "        text-align: right;\n",
              "    }\n",
              "</style>\n",
              "<table border=\"1\" class=\"dataframe\">\n",
              "  <thead>\n",
              "    <tr style=\"text-align: right;\">\n",
              "      <th></th>\n",
              "      <th>Model</th>\n",
              "      <th>ROC AUC Mean</th>\n",
              "      <th>ROC AUC Std</th>\n",
              "      <th>ACC Mean</th>\n",
              "      <th>ACC Std</th>\n",
              "    </tr>\n",
              "  </thead>\n",
              "  <tbody>\n",
              "    <tr>\n",
              "      <th>3</th>\n",
              "      <td>KNN</td>\n",
              "      <td>1.000000</td>\n",
              "      <td>0.000000</td>\n",
              "      <td>1.000000</td>\n",
              "      <td>0.000000</td>\n",
              "    </tr>\n",
              "    <tr>\n",
              "      <th>4</th>\n",
              "      <td>SVM</td>\n",
              "      <td>1.000000</td>\n",
              "      <td>0.000000</td>\n",
              "      <td>0.994792</td>\n",
              "      <td>0.006988</td>\n",
              "    </tr>\n",
              "    <tr>\n",
              "      <th>5</th>\n",
              "      <td>RF</td>\n",
              "      <td>0.999870</td>\n",
              "      <td>0.000278</td>\n",
              "      <td>0.990625</td>\n",
              "      <td>0.009827</td>\n",
              "    </tr>\n",
              "    <tr>\n",
              "      <th>0</th>\n",
              "      <td>LR</td>\n",
              "      <td>0.999780</td>\n",
              "      <td>0.000293</td>\n",
              "      <td>0.991667</td>\n",
              "      <td>0.006250</td>\n",
              "    </tr>\n",
              "    <tr>\n",
              "      <th>1</th>\n",
              "      <td>LDA</td>\n",
              "      <td>0.999694</td>\n",
              "      <td>0.000340</td>\n",
              "      <td>0.976042</td>\n",
              "      <td>0.010469</td>\n",
              "    </tr>\n",
              "    <tr>\n",
              "      <th>7</th>\n",
              "      <td>GB</td>\n",
              "      <td>0.999463</td>\n",
              "      <td>0.001228</td>\n",
              "      <td>0.991667</td>\n",
              "      <td>0.007795</td>\n",
              "    </tr>\n",
              "    <tr>\n",
              "      <th>6</th>\n",
              "      <td>ADA</td>\n",
              "      <td>0.998131</td>\n",
              "      <td>0.003500</td>\n",
              "      <td>0.994792</td>\n",
              "      <td>0.006988</td>\n",
              "    </tr>\n",
              "    <tr>\n",
              "      <th>2</th>\n",
              "      <td>CART</td>\n",
              "      <td>0.980326</td>\n",
              "      <td>0.008732</td>\n",
              "      <td>0.980208</td>\n",
              "      <td>0.009827</td>\n",
              "    </tr>\n",
              "  </tbody>\n",
              "</table>\n",
              "</div>\n",
              "      <button class=\"colab-df-convert\" onclick=\"convertToInteractive('df-488c67b5-badf-464f-9246-94a5891c7a12')\"\n",
              "              title=\"Convert this dataframe to an interactive table.\"\n",
              "              style=\"display:none;\">\n",
              "        \n",
              "  <svg xmlns=\"http://www.w3.org/2000/svg\" height=\"24px\"viewBox=\"0 0 24 24\"\n",
              "       width=\"24px\">\n",
              "    <path d=\"M0 0h24v24H0V0z\" fill=\"none\"/>\n",
              "    <path d=\"M18.56 5.44l.94 2.06.94-2.06 2.06-.94-2.06-.94-.94-2.06-.94 2.06-2.06.94zm-11 1L8.5 8.5l.94-2.06 2.06-.94-2.06-.94L8.5 2.5l-.94 2.06-2.06.94zm10 10l.94 2.06.94-2.06 2.06-.94-2.06-.94-.94-2.06-.94 2.06-2.06.94z\"/><path d=\"M17.41 7.96l-1.37-1.37c-.4-.4-.92-.59-1.43-.59-.52 0-1.04.2-1.43.59L10.3 9.45l-7.72 7.72c-.78.78-.78 2.05 0 2.83L4 21.41c.39.39.9.59 1.41.59.51 0 1.02-.2 1.41-.59l7.78-7.78 2.81-2.81c.8-.78.8-2.07 0-2.86zM5.41 20L4 18.59l7.72-7.72 1.47 1.35L5.41 20z\"/>\n",
              "  </svg>\n",
              "      </button>\n",
              "      \n",
              "  <style>\n",
              "    .colab-df-container {\n",
              "      display:flex;\n",
              "      flex-wrap:wrap;\n",
              "      gap: 12px;\n",
              "    }\n",
              "\n",
              "    .colab-df-convert {\n",
              "      background-color: #E8F0FE;\n",
              "      border: none;\n",
              "      border-radius: 50%;\n",
              "      cursor: pointer;\n",
              "      display: none;\n",
              "      fill: #1967D2;\n",
              "      height: 32px;\n",
              "      padding: 0 0 0 0;\n",
              "      width: 32px;\n",
              "    }\n",
              "\n",
              "    .colab-df-convert:hover {\n",
              "      background-color: #E2EBFA;\n",
              "      box-shadow: 0px 1px 2px rgba(60, 64, 67, 0.3), 0px 1px 3px 1px rgba(60, 64, 67, 0.15);\n",
              "      fill: #174EA6;\n",
              "    }\n",
              "\n",
              "    [theme=dark] .colab-df-convert {\n",
              "      background-color: #3B4455;\n",
              "      fill: #D2E3FC;\n",
              "    }\n",
              "\n",
              "    [theme=dark] .colab-df-convert:hover {\n",
              "      background-color: #434B5C;\n",
              "      box-shadow: 0px 1px 3px 1px rgba(0, 0, 0, 0.15);\n",
              "      filter: drop-shadow(0px 1px 2px rgba(0, 0, 0, 0.3));\n",
              "      fill: #FFFFFF;\n",
              "    }\n",
              "  </style>\n",
              "\n",
              "      <script>\n",
              "        const buttonEl =\n",
              "          document.querySelector('#df-488c67b5-badf-464f-9246-94a5891c7a12 button.colab-df-convert');\n",
              "        buttonEl.style.display =\n",
              "          google.colab.kernel.accessAllowed ? 'block' : 'none';\n",
              "\n",
              "        async function convertToInteractive(key) {\n",
              "          const element = document.querySelector('#df-488c67b5-badf-464f-9246-94a5891c7a12');\n",
              "          const dataTable =\n",
              "            await google.colab.kernel.invokeFunction('convertToInteractive',\n",
              "                                                     [key], {});\n",
              "          if (!dataTable) return;\n",
              "\n",
              "          const docLinkHtml = 'Like what you see? Visit the ' +\n",
              "            '<a target=\"_blank\" href=https://colab.research.google.com/notebooks/data_table.ipynb>data table notebook</a>'\n",
              "            + ' to learn more about interactive tables.';\n",
              "          element.innerHTML = '';\n",
              "          dataTable['output_type'] = 'display_data';\n",
              "          await google.colab.output.renderOutput(dataTable, element);\n",
              "          const docLink = document.createElement('div');\n",
              "          docLink.innerHTML = docLinkHtml;\n",
              "          element.appendChild(docLink);\n",
              "        }\n",
              "      </script>\n",
              "    </div>\n",
              "  </div>\n",
              "  "
            ]
          },
          "metadata": {},
          "execution_count": 18
        }
      ]
    },
    {
      "cell_type": "markdown",
      "source": [
        "on observing above cell we find that KNN is the best algorithm"
      ],
      "metadata": {
        "id": "XR9Uvx62gqo_"
      }
    },
    {
      "cell_type": "markdown",
      "source": [
        "###Function for model validation"
      ],
      "metadata": {
        "id": "zLGxK99bfscu"
      }
    },
    {
      "cell_type": "code",
      "source": [
        "def model_validation(model,x_test,y_test,thr = 0.5) :\n",
        "    \n",
        "    y_pred_prob = model.predict_proba(x_test)[:,1]\n",
        "    y_pred = binarize( y_pred_prob.reshape(1,-1))[0]\n",
        "    \n",
        "    cnf_matrix = confusion_matrix(y_test, y_pred)\n",
        "    plt.figure(figsize = (10,3))\n",
        "    plt.subplot(1,2,1)\n",
        "    sns.heatmap(cnf_matrix, annot = True, fmt = 'g')\n",
        "    plt.title('Confusion Matrix')\n",
        "    plt.xlabel('Predicted label')\n",
        "    plt.ylabel('Actual label')\n",
        "\n",
        "    fpr, tpr, threshold = roc_curve(y_test, y_pred_prob)\n",
        "    plt.subplot(1,2,2)\n",
        "    sns.lineplot(fpr, tpr)\n",
        "    plt.plot([0,1],[0,1], 'r--')\n",
        "    plt.xlabel('False Positive Rate')\n",
        "    plt.ylabel('True Positive Rate')\n",
        "    plt.title('ROC Curve')\n",
        "    plt.show()\n",
        "\n",
        "    \n",
        "    print('Classification Report :')\n",
        "    print('===' * 20)\n",
        "    print(classification_report(y_test, y_pred))\n",
        "\n",
        "    score = tpr - fpr\n",
        "    opt_threshold = sorted(zip(score,threshold))[-1][1]\n",
        "    print('='*20)\n",
        "    print('Area Under Curve', roc_auc_score(y_test,y_pred))\n",
        "    print('Accuracy', accuracy_score(y_test,y_pred))\n",
        "    print('Optimal Threshold : ',opt_threshold)\n",
        "    print('='*20)"
      ],
      "metadata": {
        "id": "g7cK2FWAJs2b"
      },
      "execution_count": null,
      "outputs": []
    },
    {
      "cell_type": "code",
      "source": [
        "KNeighborsClassifier()"
      ],
      "metadata": {
        "colab": {
          "base_uri": "https://localhost:8080/"
        },
        "id": "bS7vpH5cvF5T",
        "outputId": "700a2239-a323-43ef-e5f7-cfea9fc2e941"
      },
      "execution_count": null,
      "outputs": [
        {
          "output_type": "execute_result",
          "data": {
            "text/plain": [
              "KNeighborsClassifier()"
            ]
          },
          "metadata": {},
          "execution_count": 20
        }
      ]
    },
    {
      "cell_type": "code",
      "source": [
        "param_grid = {\n",
        "    'leaf_size' : [2,5,7,9,11],\n",
        "    'n_neighbors' : [2,5,7,9,11],\n",
        "    'p' : [1,2]    \n",
        "}\n",
        "\n",
        "grid = GridSearchCV(KNeighborsClassifier(), param_grid = param_grid)\n",
        "grid.fit(x_train, y_train)"
      ],
      "metadata": {
        "id": "WDdQ3YS9vSQj",
        "colab": {
          "base_uri": "https://localhost:8080/"
        },
        "outputId": "190f5eae-8fee-4f60-e853-ba7f0bbe3b10"
      },
      "execution_count": null,
      "outputs": [
        {
          "output_type": "execute_result",
          "data": {
            "text/plain": [
              "GridSearchCV(estimator=KNeighborsClassifier(),\n",
              "             param_grid={'leaf_size': [2, 5, 7, 9, 11],\n",
              "                         'n_neighbors': [2, 5, 7, 9, 11], 'p': [1, 2]})"
            ]
          },
          "metadata": {},
          "execution_count": 21
        }
      ]
    },
    {
      "cell_type": "code",
      "source": [
        "grid.best_params_"
      ],
      "metadata": {
        "id": "0l9stKuZvXn3",
        "colab": {
          "base_uri": "https://localhost:8080/"
        },
        "outputId": "3ac4cd22-3e8f-4a97-f253-c5ad3635594b"
      },
      "execution_count": null,
      "outputs": [
        {
          "output_type": "execute_result",
          "data": {
            "text/plain": [
              "{'leaf_size': 2, 'n_neighbors': 2, 'p': 1}"
            ]
          },
          "metadata": {},
          "execution_count": 22
        }
      ]
    },
    {
      "cell_type": "code",
      "source": [
        "final_model = grid.best_estimator_"
      ],
      "metadata": {
        "id": "MXV8Dxo-viFq"
      },
      "execution_count": null,
      "outputs": []
    },
    {
      "cell_type": "code",
      "source": [
        "model_validation(final_model, x_test, y_test)"
      ],
      "metadata": {
        "id": "jIgMwwTVvmKM",
        "colab": {
          "base_uri": "https://localhost:8080/",
          "height": 519
        },
        "outputId": "062edd0c-35d5-4caf-d1e9-3636f3e7589b"
      },
      "execution_count": null,
      "outputs": [
        {
          "output_type": "display_data",
          "data": {
            "text/plain": [
              "<Figure size 720x216 with 3 Axes>"
            ],
            "image/png": "[encoded data removed]"
          },
          "metadata": {
            "needs_background": "light"
          }
        },
        {
          "output_type": "stream",
          "name": "stdout",
          "text": [
            "Classification Report :\n",
            "============================================================\n",
            "              precision    recall  f1-score   support\n",
            "\n",
            "           0       1.00      1.00      1.00       240\n",
            "           1       1.00      1.00      1.00       172\n",
            "\n",
            "    accuracy                           1.00       412\n",
            "   macro avg       1.00      1.00      1.00       412\n",
            "weighted avg       1.00      1.00      1.00       412\n",
            "\n",
            "====================\n",
            "Area Under Curve 1.0\n",
            "Accuracy 1.0\n",
            "Optimal Threshold :  1.0\n",
            "====================\n"
          ]
        }
      ]
    },
    {
      "cell_type": "markdown",
      "source": [
        "###Conclusion:-\n",
        "We analyze the dataset for BankNote Authenticationand visualize the data using different plots and applied different ML algorithms for BankNote Authentication and found out tha KNN is the best algo for the given problem with Accuracy = 1.0"
      ],
      "metadata": {
        "id": "xeGStBj8g7Zm"
      }
    }
  ]
}